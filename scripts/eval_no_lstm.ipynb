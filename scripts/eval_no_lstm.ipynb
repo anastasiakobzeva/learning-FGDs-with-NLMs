{
 "cells": [
  {
   "cell_type": "code",
   "execution_count": 1,
   "metadata": {},
   "outputs": [],
   "source": [
    "import os\n",
    "import torch\n",
    "import torch.nn as nn\n",
    "import numpy as np\n",
    "from pandas import *\n",
    "import torch.nn.functional as F\n",
    "import dictionary_corpus\n",
    "from torch.autograd import Variable\n",
    "from model import RNNModel\n",
    "from collections import defaultdict"
   ]
  },
  {
   "cell_type": "code",
   "execution_count": 2,
   "metadata": {},
   "outputs": [],
   "source": [
    "torch.manual_seed(1111)\n",
    "np.random.seed(1111)\n",
    "torch.backends.cudnn.deterministic = True\n",
    "torch.backends.cudnn.benchmark = False"
   ]
  },
  {
   "cell_type": "code",
   "execution_count": 3,
   "metadata": {},
   "outputs": [],
   "source": [
    "# LSTM model from (Kobzeva et al., 2022)\n",
    "fn = \"../data/lm/Norwegian/lstm-1.pt\"\n",
    "model_name = \"LSTM-1\""
   ]
  },
  {
   "cell_type": "code",
   "execution_count": 4,
   "metadata": {},
   "outputs": [
    {
     "name": "stderr",
     "output_type": "stream",
     "text": [
      "/Library/Frameworks/Python.framework/Versions/3.9/lib/python3.9/site-packages/torch/serialization.py:868: SourceChangeWarning: source code of class 'model.RNNModel' has changed. you can retrieve the original source code by accessing the object's source attribute or set `torch.nn.Module.dump_patches = True` and use the patch tool to revert the changes.\n",
      "  warnings.warn(msg, SourceChangeWarning)\n",
      "/Library/Frameworks/Python.framework/Versions/3.9/lib/python3.9/site-packages/torch/serialization.py:868: SourceChangeWarning: source code of class 'torch.nn.modules.dropout.Dropout' has changed. you can retrieve the original source code by accessing the object's source attribute or set `torch.nn.Module.dump_patches = True` and use the patch tool to revert the changes.\n",
      "  warnings.warn(msg, SourceChangeWarning)\n",
      "/Library/Frameworks/Python.framework/Versions/3.9/lib/python3.9/site-packages/torch/serialization.py:868: SourceChangeWarning: source code of class 'torch.nn.modules.sparse.Embedding' has changed. you can retrieve the original source code by accessing the object's source attribute or set `torch.nn.Module.dump_patches = True` and use the patch tool to revert the changes.\n",
      "  warnings.warn(msg, SourceChangeWarning)\n",
      "/Library/Frameworks/Python.framework/Versions/3.9/lib/python3.9/site-packages/torch/serialization.py:868: SourceChangeWarning: source code of class 'torch.nn.modules.rnn.LSTM' has changed. you can retrieve the original source code by accessing the object's source attribute or set `torch.nn.Module.dump_patches = True` and use the patch tool to revert the changes.\n",
      "  warnings.warn(msg, SourceChangeWarning)\n",
      "/Library/Frameworks/Python.framework/Versions/3.9/lib/python3.9/site-packages/torch/serialization.py:868: SourceChangeWarning: source code of class 'torch.nn.modules.linear.Linear' has changed. you can retrieve the original source code by accessing the object's source attribute or set `torch.nn.Module.dump_patches = True` and use the patch tool to revert the changes.\n",
      "  warnings.warn(msg, SourceChangeWarning)\n"
     ]
    }
   ],
   "source": [
    "model_ = None\n",
    "with open(fn, \"rb\") as model_f:\n",
    "    model_ = torch.load(fn, map_location=torch.device('cpu'))"
   ]
  },
  {
   "cell_type": "code",
   "execution_count": 5,
   "metadata": {},
   "outputs": [
    {
     "data": {
      "text/plain": [
       "<All keys matched successfully>"
      ]
     },
     "execution_count": 5,
     "metadata": {},
     "output_type": "execute_result"
    }
   ],
   "source": [
    "model = RNNModel(\"LSTM\", 50001, 650, 650, 2, 0.2, False)\n",
    "model.eval()\n",
    "model.load_state_dict(model_.state_dict())"
   ]
  },
  {
   "cell_type": "code",
   "execution_count": 6,
   "metadata": {},
   "outputs": [],
   "source": [
    "# path to data files\n",
    "data_path = \"../data/lm/Norwegian\""
   ]
  },
  {
   "cell_type": "code",
   "execution_count": 7,
   "metadata": {},
   "outputs": [],
   "source": [
    "dictionary = dictionary_corpus.Dictionary(data_path)"
   ]
  },
  {
   "cell_type": "code",
   "execution_count": 8,
   "metadata": {},
   "outputs": [],
   "source": [
    "def check_vocab(word_list):\n",
    "    \"\"\"\n",
    "    Check if elements from word_list are in the model's vocab\n",
    "    \"\"\"\n",
    "    unknown = set()\n",
    "    for w in word_list:\n",
    "        try:\n",
    "            idx = dictionary.word2idx[w]\n",
    "        except KeyError:\n",
    "            unknown.add(w)\n",
    "    print(unknown)\n",
    "    print(len(unknown), \"word(s) is/are not in the model's vocabulary\")"
   ]
  },
  {
   "cell_type": "code",
   "execution_count": 9,
   "metadata": {},
   "outputs": [],
   "source": [
    "def sent_surprisal(prompt):\n",
    "    \"\"\"\n",
    "    Assigns surprisal values to a sentence\n",
    "    prompt: list with sentence tokens\n",
    "    Returns a list with surprisal values for the sentence\n",
    "    \"\"\"\n",
    "    # Sent has <eos> tokens at the start and end for which surprisal of 0 is assigned\n",
    "    surprisal_arr = [0]  # surprisal for start <eos> token already added\n",
    "    indices = [dictionary.word2idx[w] if w in dictionary.word2idx\n",
    "               else dictionary.word2idx[\"<unk>\"]\n",
    "               for w in prompt]\n",
    "    indices = torch.tensor(indices, dtype=torch.long)\n",
    "    output, hidden = model(indices.view(-1, 1),  # Remember, (sequence_length, batch_size)\n",
    "                           model.init_hidden(1))  # one input at a time, thus batch_size = 1\n",
    "    for position, next_word in enumerate(prompt[1:-1]): # excluding actual surprisal for <eos>\n",
    "        current_word_scores = output[position].view(-1)  # the output vector corresponding to the current word\n",
    "        current_word_probs = F.log_softmax(current_word_scores, dim=0) # (log) softmax the score to get probabilities\n",
    "        next_word_prob = current_word_probs[dictionary.word2idx[next_word]] # get the prob of the true next word\n",
    "        surprisal = next_word_prob*(-1) \n",
    "        surprisal_arr.append(surprisal.item())\n",
    "    surprisal_arr.append(0) # surprisal for end <eos> \n",
    "    return surprisal_arr"
   ]
  },
  {
   "cell_type": "code",
   "execution_count": 10,
   "metadata": {},
   "outputs": [],
   "source": [
    "def get_surprisal_values(data):\n",
    "    \"\"\"\n",
    "    Get surprisal values for a 'word' column in a df\n",
    "    Returns a list with surprisal values for the whole df\n",
    "    \"\"\"\n",
    "    surprisal_values = []\n",
    "    # list with idx of rows that contain <eos> at the end of an item (ignores <eos> at the start)\n",
    "    end_idx = data.loc[((data['word'] == '<eos>') & (data['region'] == 'end'))].index.to_list() \n",
    "    end_idx = [-1,*end_idx]  # inserting -1 as the start index to get the first sentence right\n",
    "    for i in range(len(end_idx)-1):\n",
    "        sent_range = range(end_idx[i]+1, end_idx[i+1]+1)\n",
    "        sent_words = data.iloc[sent_range]['word'].to_list()\n",
    "        surprisal_arr = sent_surprisal(sent_words)\n",
    "        for s in surprisal_arr:\n",
    "            surprisal_values.append(s)\n",
    "    return surprisal_values"
   ]
  },
  {
   "cell_type": "code",
   "execution_count": 11,
   "metadata": {},
   "outputs": [],
   "source": [
    "def filename_from_dataset(dataset):\n",
    "    \"\"\"\n",
    "    Get output filename from input filename by adding \"_result\"\n",
    "    \"\"\"\n",
    "    result_filename = '../data/results/lstm/' + os.path.basename(dataset)[:-4] + '_result.csv' \n",
    "    print(result_filename)\n",
    "    return result_filename"
   ]
  },
  {
   "cell_type": "code",
   "execution_count": 12,
   "metadata": {},
   "outputs": [],
   "source": [
    "def analyze_data(dataset, dependency):\n",
    "    data = read_csv(dataset, index_col=0)\n",
    "    words = data['word'].tolist()\n",
    "    check_vocab(words)\n",
    "    surprisal_values = get_surprisal_values(data)\n",
    "    data[\"surprisal\"] = surprisal_values\n",
    "    data[\"dependency\"] = dependency\n",
    "    data[\"language\"] = \"Norwegian\"\n",
    "    result_fn = filename_from_dataset(dataset)\n",
    "    data.to_csv(result_fn, encoding=\"utf-8-sig\", index=False)"
   ]
  },
  {
   "cell_type": "code",
   "execution_count": 13,
   "metadata": {},
   "outputs": [
    {
     "name": "stdout",
     "output_type": "stream",
     "text": [
      "set()\n",
      "0 word(s) is/are not in the model's vocabulary\n",
      "../data/results/lstm/eq_wh_result.csv\n",
      "set()\n",
      "0 word(s) is/are not in the model's vocabulary\n",
      "../data/results/lstm/whether_wh_result.csv\n",
      "set()\n",
      "0 word(s) is/are not in the model's vocabulary\n",
      "../data/results/lstm/subject_wh_result.csv\n",
      "set()\n",
      "0 word(s) is/are not in the model's vocabulary\n",
      "../data/results/lstm/unbound_wh_result.csv\n"
     ]
    }
   ],
   "source": [
    "analyze_data('../data/test_sentences/eq_wh.csv', \"Wh\")\n",
    "analyze_data('../data/test_sentences/whether_wh.csv', \"Wh\")\n",
    "analyze_data('../data/test_sentences/subject_wh.csv', \"Wh\")\n",
    "analyze_data('../data/test_sentences/unbound_wh.csv', \"Wh\")"
   ]
  },
  {
   "cell_type": "code",
   "execution_count": null,
   "metadata": {},
   "outputs": [
    {
     "name": "stdout",
     "output_type": "stream",
     "text": [
      "set()\n",
      "0 word(s) is/are not in the model's vocabulary\n"
     ]
    }
   ],
   "source": [
    "analyze_data('../data/test_sentences/eq_rc.csv', \"RC\")\n",
    "analyze_data('../data/test_sentences/whether_rc.csv', \"RC\")\n",
    "analyze_data('../data/test_sentences/subject_rc.csv', \"RC\")\n",
    "analyze_data('../data/test_sentences/unbound_rc.csv', \"RC\")"
   ]
  }
 ],
 "metadata": {
  "kernelspec": {
   "display_name": "Python 3 (ipykernel)",
   "language": "python",
   "name": "python3"
  },
  "language_info": {
   "codemirror_mode": {
    "name": "ipython",
    "version": 3
   },
   "file_extension": ".py",
   "mimetype": "text/x-python",
   "name": "python",
   "nbconvert_exporter": "python",
   "pygments_lexer": "ipython3",
   "version": "3.9.0"
  }
 },
 "nbformat": 4,
 "nbformat_minor": 4
}
